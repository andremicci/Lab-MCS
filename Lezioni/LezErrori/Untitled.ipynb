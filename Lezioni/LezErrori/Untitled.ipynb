{
 "cells": [
  {
   "cell_type": "markdown",
   "id": "e51bdeab",
   "metadata": {},
   "source": [
    "# Stimatori\n"
   ]
  },
  {
   "cell_type": "markdown",
   "id": "be0146e7",
   "metadata": {},
   "source": [
    "Dato un set di dati uno stimatore è una funzione che fornisce la stima di uno dei parametri della distribuzione. Per esempio lo stimatore del valor medio è la media aritmetica del set $$ x=\\frac{1}{n}\\sum_{i=1}^{n}x_i $$\n"
   ]
  },
  {
   "cell_type": "markdown",
   "id": "e4f4b7e2",
   "metadata": {},
   "source": [
    "Il bias di uno stimatore o distorsione è il valore di aspettazione di quanto si discosta dal valore vero. Uno stimatore è detto tanto più efficiente quanto la sua varianza è piccola. La varianza è unbiased solo se si conosce il valor vero della media"
   ]
  },
  {
   "cell_type": "markdown",
   "id": "e2224617",
   "metadata": {},
   "source": [
    " $$ \\sigma_f^2=Cov[f,f]=Cov[\\sum a_i x_i,\\sum a_j x_j]=\\sum_{i=1}^{n}\\sum_{j=1}^{n} a_i a_j Cov[x_i,x_j] $$"
   ]
  },
  {
   "cell_type": "markdown",
   "id": "caff6ff8",
   "metadata": {},
   "source": [
    "$$ \\sum a_i^2 \\sigma_i^2+\\sum \\sum a_i a_j Cov[x_i,x_j]=\\sum a_i^2 \\sigma_i^2 +2\\sum_{i=1}^{n} \\sum_{i>1}^{n} a_i a_j Cov[x_i,x_j]$$"
   ]
  }
 ],
 "metadata": {
  "kernelspec": {
   "display_name": "Python 3 (ipykernel)",
   "language": "python",
   "name": "python3"
  },
  "language_info": {
   "codemirror_mode": {
    "name": "ipython",
    "version": 3
   },
   "file_extension": ".py",
   "mimetype": "text/x-python",
   "name": "python",
   "nbconvert_exporter": "python",
   "pygments_lexer": "ipython3",
   "version": "3.8.10"
  }
 },
 "nbformat": 4,
 "nbformat_minor": 5
}
